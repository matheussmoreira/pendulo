{
 "cells": [
  {
   "cell_type": "markdown",
   "metadata": {
    "colab_type": "text",
    "id": "view-in-github"
   },
   "source": [
    "<a href=\"https://colab.research.google.com/github/matheussmoreira/pendulo/blob/main/pendulo.ipynb\" target=\"_parent\"><img src=\"https://colab.research.google.com/assets/colab-badge.svg\" alt=\"Open In Colab\"/></a>"
   ]
  },
  {
   "cell_type": "code",
   "execution_count": 6,
   "metadata": {
    "id": "4QRhg1ECJwCA"
   },
   "outputs": [
    {
     "ename": "SyntaxError",
     "evalue": "expected ':' (1208458430.py, line 52)",
     "output_type": "error",
     "traceback": [
      "\u001b[0;36m  Cell \u001b[0;32mIn[6], line 52\u001b[0;36m\u001b[0m\n\u001b[0;31m    if delta == 0\u001b[0m\n\u001b[0m                 ^\u001b[0m\n\u001b[0;31mSyntaxError\u001b[0m\u001b[0;31m:\u001b[0m expected ':'\n"
     ]
    }
   ],
   "source": [
    "# METODOS NUMERICOS\n",
    "\n",
    "def calc_y(h, t, y, f):\n",
    "    k1 = h * f(t, y)\n",
    "    k2 = h * f(t+h/2, y+k1/2)\n",
    "    k3 = h * f(t+h/2, y+k2/2)\n",
    "    k4 = h * f(t+h, y+k3)\n",
    "    \n",
    "    return y + 1/6 * (k1 + 2*k2 + 2*k3 + k4)\n",
    "# End calc_y()\n",
    "\n",
    "def runge_kutta(t0, t1, h, y0, f):\n",
    "    ys = [y0]\n",
    "    ts = [t0]\n",
    "    \n",
    "    ti = t0\n",
    "    yi = y0\n",
    "    tol = 1e-5\n",
    "    \n",
    "    while (ti<t1 - tol):\n",
    "        # Ajusta passo largo\n",
    "        if (ti+h > t1):\n",
    "            h = t1 - ti\n",
    "        \n",
    "        yi = calc_y(h, ti, yi, f)\n",
    "        ti += h\n",
    "        \n",
    "        ts.append(ti)\n",
    "        ys.append(yi)\n",
    "    \n",
    "    return [ts,ys]\n",
    "# End runge_kutta()\n",
    "\n",
    "def runge_kutta_adapt(t0, t1, y0, f, h):\n",
    "    ys = [y0]\n",
    "    ts = [t0]\n",
    "    \n",
    "    tol = 1e-5\n",
    "    ti = t0\n",
    "    yi = y0\n",
    "    \n",
    "    while (ti<t1):\n",
    "        # Ajusta passo largo\n",
    "        if (ti+h > t1):\n",
    "            h = t1 - ti\n",
    "    \n",
    "        y1 = calc_y(h, ti, yi, f)\n",
    "        y2 = calc_y(h/2, ti, yi, f)\n",
    "        y2 = calc_y(h/2, ti, y2, f)\n",
    "        \n",
    "        delta = (y2-y1)/15\n",
    "        if delta == 0:\n",
    "            delta = tol # GAMBIARRA RESOLVER DEPOIS\n",
    "        fator = pow(tol/abs(delta), 1/5)\n",
    "        \n",
    "        if (fator >= 1.0):\n",
    "            yi += y2+delta\n",
    "            h = min(1.2, fator) * h\n",
    "            ti += h\n",
    "        else:\n",
    "            h = 0.8 * fator * h\n",
    "\n",
    "        ts.append(ti)\n",
    "        ys.append(yi)\n",
    "\n",
    "    return [ts,ys]\n",
    "# End runge_kutta_adapt()"
   ]
  },
  {
   "cell_type": "code",
   "execution_count": 3,
   "metadata": {
    "id": "Zn3yHbq6RD6a"
   },
   "outputs": [],
   "source": [
    "import math\n",
    "\n",
    "# CONSTANTES FISICAS\n",
    "\n",
    "g = 9.8 # m/s^2\n",
    "l = 1.0 # m\n",
    "\n",
    "# FORMULAS PENDULO\n",
    "\n",
    "def mov_pendulo(theta):\n",
    "  return theta + g/l * math.sin(theta)\n",
    "\n",
    "def mov_pendulo_simp(theta):\n",
    "  return theta + g/l * theta\n",
    "\n",
    "def sol_analitica(theta_0, t):\n",
    "  raiz = math.sqrt(g/l)\n",
    "  return theta_0 * math.cos(raiz*t)\n",
    "\n",
    "def periodo_simp():\n",
    "  raiz = math.sqrt(l/g)\n",
    "  return 2 * math.pi * raiz\n",
    "\n",
    "def periodo(t1, t2, v1, v2):\n",
    "  div = abs(v1)/(abs(v1)+abs(v2))\n",
    "  diff = t2 - t1\n",
    "  return 2 * (t1 + div * diff)"
   ]
  },
  {
   "cell_type": "code",
   "execution_count": 5,
   "metadata": {
    "colab": {
     "base_uri": "https://localhost:8080/",
     "height": 472
    },
    "id": "ISG-fh-PPZev",
    "outputId": "075226c6-514f-465e-c6a4-e76c9f950afe"
   },
   "outputs": [
    {
     "ename": "ZeroDivisionError",
     "evalue": "float division by zero",
     "output_type": "error",
     "traceback": [
      "\u001b[0;31m---------------------------------------------------------------------------\u001b[0m",
      "\u001b[0;31mZeroDivisionError\u001b[0m                         Traceback (most recent call last)",
      "Cell \u001b[0;32mIn[5], line 17\u001b[0m\n\u001b[1;32m     15\u001b[0m y0_1 \u001b[38;5;241m=\u001b[39m sol_analitica(theta0_1, t0)\n\u001b[1;32m     16\u001b[0m ts_1, ys_1 \u001b[38;5;241m=\u001b[39m runge_kutta(t0, t1, h_1, y0_1, sol_analitica)\n\u001b[0;32m---> 17\u001b[0m ts_1_adapt, ys_1_adapt \u001b[38;5;241m=\u001b[39m \u001b[43mrunge_kutta_adapt\u001b[49m\u001b[43m(\u001b[49m\u001b[43mt0\u001b[49m\u001b[43m,\u001b[49m\u001b[43m \u001b[49m\u001b[43mt1\u001b[49m\u001b[43m,\u001b[49m\u001b[43m \u001b[49m\u001b[43my0_1\u001b[49m\u001b[43m,\u001b[49m\u001b[43m \u001b[49m\u001b[43msol_analitica\u001b[49m\u001b[43m,\u001b[49m\u001b[43m \u001b[49m\u001b[43mh_1\u001b[49m\u001b[43m)\u001b[49m\n\u001b[1;32m     19\u001b[0m plt\u001b[38;5;241m.\u001b[39mplot(ts_1,ys_1)\n\u001b[1;32m     20\u001b[0m plt\u001b[38;5;241m.\u001b[39mxlabel(\u001b[38;5;124m'\u001b[39m\u001b[38;5;124mTempo\u001b[39m\u001b[38;5;124m'\u001b[39m)\n",
      "Cell \u001b[0;32mIn[2], line 52\u001b[0m, in \u001b[0;36mrunge_kutta_adapt\u001b[0;34m(t0, t1, y0, f, h)\u001b[0m\n\u001b[1;32m     49\u001b[0m y2 \u001b[38;5;241m=\u001b[39m calc_y(h\u001b[38;5;241m/\u001b[39m\u001b[38;5;241m2\u001b[39m, ti, y2, f)\n\u001b[1;32m     51\u001b[0m delta \u001b[38;5;241m=\u001b[39m (y2\u001b[38;5;241m-\u001b[39my1)\u001b[38;5;241m/\u001b[39m\u001b[38;5;241m15\u001b[39m\n\u001b[0;32m---> 52\u001b[0m fator \u001b[38;5;241m=\u001b[39m \u001b[38;5;28mpow\u001b[39m(\u001b[43mtol\u001b[49m\u001b[38;5;241;43m/\u001b[39;49m\u001b[38;5;28;43mabs\u001b[39;49m\u001b[43m(\u001b[49m\u001b[43mdelta\u001b[49m\u001b[43m)\u001b[49m, \u001b[38;5;241m1\u001b[39m\u001b[38;5;241m/\u001b[39m\u001b[38;5;241m5\u001b[39m)\n\u001b[1;32m     54\u001b[0m \u001b[38;5;28;01mif\u001b[39;00m (fator \u001b[38;5;241m>\u001b[39m\u001b[38;5;241m=\u001b[39m \u001b[38;5;241m1.0\u001b[39m):\n\u001b[1;32m     55\u001b[0m     yi \u001b[38;5;241m+\u001b[39m\u001b[38;5;241m=\u001b[39m y2\u001b[38;5;241m+\u001b[39mdelta\n",
      "\u001b[0;31mZeroDivisionError\u001b[0m: float division by zero"
     ]
    }
   ],
   "source": [
    "# MAIN\n",
    "\n",
    "import matplotlib.pyplot as plt\n",
    "import math\n",
    "\n",
    "# Variaveis dos experimentos\n",
    "h_1 = 0.01\n",
    "theta0_1 = math.pi\n",
    "\n",
    "# Constantes\n",
    "t0 = 0.0\n",
    "t1 = periodo_simp()\n",
    "\n",
    "# Resultados\n",
    "y0_1 = sol_analitica(theta0_1, t0)\n",
    "ts_1, ys_1 = runge_kutta(t0, t1, h_1, y0_1, sol_analitica)\n",
    "ts_1_adapt, ys_1_adapt = runge_kutta_adapt(t0, t1, y0_1, sol_analitica, h_1)\n",
    "\n",
    "plt.plot(ts_1,ys_1)\n",
    "plt.xlabel('Tempo')\n",
    "plt.ylabel('Angulo')\n",
    "plt.title('Mov. Pendulo - RungeKutta Constante')\n",
    "plt.show()\n",
    "\n",
    "plt.plot(ts_1_adapt,ys_1_adapt)\n",
    "plt.xlabel('Tempo')\n",
    "plt.ylabel('Angulo')\n",
    "plt.title('Mov. Pendulo - RungeKutta Adaptativo')\n",
    "plt.show()\n"
   ]
  },
  {
   "cell_type": "code",
   "execution_count": null,
   "metadata": {},
   "outputs": [],
   "source": []
  }
 ],
 "metadata": {
  "colab": {
   "include_colab_link": true,
   "provenance": []
  },
  "kernelspec": {
   "display_name": "Python 3 (ipykernel)",
   "language": "python",
   "name": "python3"
  },
  "language_info": {
   "codemirror_mode": {
    "name": "ipython",
    "version": 3
   },
   "file_extension": ".py",
   "mimetype": "text/x-python",
   "name": "python",
   "nbconvert_exporter": "python",
   "pygments_lexer": "ipython3",
   "version": "3.11.3"
  }
 },
 "nbformat": 4,
 "nbformat_minor": 4
}
