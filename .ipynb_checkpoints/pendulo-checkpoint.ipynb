{
 "cells": [
  {
   "cell_type": "markdown",
   "metadata": {
    "colab_type": "text",
    "id": "view-in-github"
   },
   "source": [
    "<a href=\"https://colab.research.google.com/github/matheussmoreira/pendulo/blob/main/pendulo.ipynb\" target=\"_parent\"><img src=\"https://colab.research.google.com/assets/colab-badge.svg\" alt=\"Open In Colab\"/></a>"
   ]
  },
  {
   "cell_type": "code",
   "execution_count": 2,
   "metadata": {
    "id": "4QRhg1ECJwCA"
   },
   "outputs": [],
   "source": [
    "# METODOS NUMERICOS\n",
    "\n",
    "def calc_y(h, t, y, f):\n",
    "  k1 = h * f(t, y)\n",
    "  k2 = h * f(t+h/2, y+k1/2)\n",
    "  k3 = h * f(t+h/2, y+k2/2)\n",
    "  k4 = h * f(t+h, y+k3)\n",
    "  return y + 1/6 * (k1 + 2*k2 + 2*k3 + k4)\n",
    "\n",
    "def RungeKutta(t0, t1, h, y0, f):\n",
    "  ys = [y0]\n",
    "  ts = [t0]\n",
    "\n",
    "  ti = t0\n",
    "  yi = y0\n",
    "  tol = 1e-5\n",
    "\n",
    "  while (ti<t1 - tol):\n",
    "    # Ajusta passo largo\n",
    "    if (ti+h > t1):\n",
    "      h = t1 - ti\n",
    "\n",
    "    yi = calc_y(h, ti, yi, lambda: f)\n",
    "    ti += h\n",
    "\n",
    "    ys.append(yi)\n",
    "    ts.append(ti)\n",
    "\n",
    "  return [ts,ys]\n",
    "\n",
    "def RungeKuttaAdapt(t0, t1, y0, f):\n",
    "  tol = 1e-5\n",
    "  h = 1e-7 # Passo inicial\n",
    "  ti = t0\n",
    "  yi = y0\n",
    "\n",
    "  while (ti<t1):\n",
    "    # Ajusta passo largo\n",
    "    if (ti+h > t1):\n",
    "        h = t1 - ti\n",
    "\n",
    "    y1 = calc_y(h, ti, yi, lambda: f)\n",
    "    y2 = calc_y(h/2, ti, yi, lambda: f)\n",
    "    y2 = calc_y(h/2, ti, y2, lambda: f)\n",
    "\n",
    "    delta = (y2-y1)/15\n",
    "    fator = pow(tol/abs(delta), 1/5)\n",
    "\n",
    "    if (fator >= 1.0):\n",
    "      yi += y2+delta\n",
    "      h = min(1.2, fator) * h\n",
    "      ti += h\n",
    "    else:\n",
    "      h = 0.8 * fator * h\n",
    "\n",
    "  return yi"
   ]
  },
  {
   "cell_type": "code",
   "execution_count": 3,
   "metadata": {
    "id": "Zn3yHbq6RD6a"
   },
   "outputs": [],
   "source": [
    "import math\n",
    "\n",
    "# CONSTANTES\n",
    "\n",
    "g = 9.8\n",
    "l = 1.0\n",
    "\n",
    "# FUNCOES PENDULO\n",
    "\n",
    "def mov_pendulo(theta):\n",
    "  return theta + g/l * math.sin(theta)\n",
    "\n",
    "def mov_pendulo_simp(theta):\n",
    "  return theta + g/l * theta\n",
    "\n",
    "def sol_analitica(theta_0, t):\n",
    "  raiz = math.sqrt(g/l)\n",
    "  return theta_0 * math.cos(raiz*t)\n",
    "\n",
    "def periodo_simp():\n",
    "  raiz = math.sqrt(l/g)\n",
    "  return 2 * math.pi * raiz\n",
    "\n",
    "def periodo(t1, t2, v1, v2):\n",
    "  div = abs(v1)/(abs(v1)+abs(v2))\n",
    "  diff = t2 - t1\n",
    "  return 2 * (t1 + div * diff)"
   ]
  },
  {
   "cell_type": "code",
   "execution_count": 4,
   "metadata": {
    "colab": {
     "base_uri": "https://localhost:8080/",
     "height": 472
    },
    "id": "ISG-fh-PPZev",
    "outputId": "075226c6-514f-465e-c6a4-e76c9f950afe"
   },
   "outputs": [],
   "source": [
    "# MAIN\n",
    "\n",
    "# import matplotlib.pyplot as plt\n",
    "import math\n",
    "\n",
    "t0 = 2.4;\n",
    "theta_01 = math.pi\n",
    "y0 = sol_analitica(theta_01,t0)\n",
    "\n",
    "h = 0.01;\n",
    "t1 = 2.4;\n",
    "\n",
    "ts, ys = RungeKutta(t0,t1,h,y0,lambda: mov_pendulo_simp)\n",
    "\n",
    "# plt.plot(ts,ys)\n",
    "# plt.xlabel('tempo')\n",
    "# plt.ylabel('angulo')\n",
    "# plt.title('Trajetória')\n",
    "# plt.show()\n"
   ]
  },
  {
   "cell_type": "code",
   "execution_count": null,
   "metadata": {},
   "outputs": [],
   "source": []
  }
 ],
 "metadata": {
  "colab": {
   "include_colab_link": true,
   "provenance": []
  },
  "kernelspec": {
   "display_name": "Python 3 (ipykernel)",
   "language": "python",
   "name": "python3"
  },
  "language_info": {
   "codemirror_mode": {
    "name": "ipython",
    "version": 3
   },
   "file_extension": ".py",
   "mimetype": "text/x-python",
   "name": "python",
   "nbconvert_exporter": "python",
   "pygments_lexer": "ipython3",
   "version": "3.11.3"
  }
 },
 "nbformat": 4,
 "nbformat_minor": 4
}
